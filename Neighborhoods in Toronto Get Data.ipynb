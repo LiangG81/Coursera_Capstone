{
    "cells": [
        {
            "cell_type": "markdown",
            "metadata": {
                "collapsed": true
            },
            "source": "Segmenting and Clustering Neighborhoods in Toronto"
        },
        {
            "cell_type": "markdown",
            "metadata": {},
            "source": "Import library"
        },
        {
            "cell_type": "code",
            "execution_count": 1,
            "metadata": {},
            "outputs": [
                {
                    "name": "stdout",
                    "output_type": "stream",
                    "text": "Solving environment: done\n\n## Package Plan ##\n\n  environment location: /opt/conda/envs/Python36\n\n  added / updated specs: \n    - beautifulsoup4\n    - bs4\n\n\nThe following packages will be downloaded:\n\n    package                    |            build\n    ---------------------------|-----------------\n    ca-certificates-2020.6.24  |                0         133 KB  anaconda\n    certifi-2020.6.20          |           py36_0         160 KB  anaconda\n    beautifulsoup4-4.9.1       |           py36_0         168 KB  anaconda\n    bs4-4.9.1                  |                0           4 KB  anaconda\n    openssl-1.1.1g             |       h7b6447c_0         3.8 MB  anaconda\n    ------------------------------------------------------------\n                                           Total:         4.2 MB\n\nThe following NEW packages will be INSTALLED:\n\n    bs4:             4.9.1-0           anaconda\n\nThe following packages will be UPDATED:\n\n    beautifulsoup4:  4.7.1-py36_1               --> 4.9.1-py36_0      anaconda\n    ca-certificates: 2020.6.24-0                --> 2020.6.24-0       anaconda\n    certifi:         2020.6.20-py36_0           --> 2020.6.20-py36_0  anaconda\n    openssl:         1.1.1g-h7b6447c_0          --> 1.1.1g-h7b6447c_0 anaconda\n\n\nDownloading and Extracting Packages\nca-certificates-2020 | 133 KB    | ##################################### | 100% \ncertifi-2020.6.20    | 160 KB    | ##################################### | 100% \nbeautifulsoup4-4.9.1 | 168 KB    | ##################################### | 100% \nbs4-4.9.1            | 4 KB      | ##################################### | 100% \nopenssl-1.1.1g       | 3.8 MB    | ##################################### | 100% \nPreparing transaction: done\nVerifying transaction: done\nExecuting transaction: done\n"
                }
            ],
            "source": "import urllib.request\n!conda install -c anaconda beautifulsoup4 bs4 --yes\nfrom bs4 import BeautifulSoup"
        },
        {
            "cell_type": "markdown",
            "metadata": {},
            "source": "Choosing wiki page and get table."
        },
        {
            "cell_type": "code",
            "execution_count": 79,
            "metadata": {},
            "outputs": [],
            "source": "url = \"https://en.wikipedia.org/wiki/List_of_postal_codes_of_Canada:_M\"\npage = urllib.request.urlopen(url)\nsoup = BeautifulSoup(page, \"html.parser\")\nTorontotable=soup.find('table', class_='wikitable sortable')"
        },
        {
            "cell_type": "markdown",
            "metadata": {},
            "source": "Get the data and transform the data into a pandas dataframe."
        },
        {
            "cell_type": "code",
            "execution_count": 81,
            "metadata": {},
            "outputs": [],
            "source": "A=[]\nB=[]\nC=[]\n\nfor row in Torontotable.findAll('tr'):\n    cells=row.findAll('td')\n    if len(cells)==3:\n        A.append(cells[0].find(text=True))\n        B.append(cells[1].find(text=True))\n        C.append(cells[2].find(text=True))\n\nimport pandas as pd\ndf=pd.DataFrame(A,columns=['PostalCode'])\ndf['Borough']=B\ndf['Neighbrhood']=C"
        },
        {
            "cell_type": "markdown",
            "metadata": {},
            "source": "Ignore cells with a borough that is Not assigned."
        },
        {
            "cell_type": "code",
            "execution_count": 83,
            "metadata": {},
            "outputs": [],
            "source": "df = df[df.Borough != df.Borough[0]]"
        },
        {
            "cell_type": "markdown",
            "metadata": {},
            "source": "Combine neighborhoods of the same postal code areas into one row with the neighborhoods separated with a comma."
        },
        {
            "cell_type": "code",
            "execution_count": 89,
            "metadata": {},
            "outputs": [],
            "source": "df = df.groupby('PostalCode').agg({'Borough':'first','Neighbrhood':', '.join}).reset_index()"
        },
        {
            "cell_type": "markdown",
            "metadata": {},
            "source": "Assigne borough to the neighborhoods which are \"Not assigned\"."
        },
        {
            "cell_type": "code",
            "execution_count": 86,
            "metadata": {},
            "outputs": [],
            "source": "import numpy as np\ndf['Neighbrhood'] = np.where(df['Neighbrhood'] == 'Not assigned', df['Borough'], df['Neighbrhood'])"
        },
        {
            "cell_type": "markdown",
            "metadata": {},
            "source": "Print the number of rows of the dataframe."
        },
        {
            "cell_type": "code",
            "execution_count": 88,
            "metadata": {},
            "outputs": [
                {
                    "data": {
                        "text/plain": "(103, 3)"
                    },
                    "execution_count": 88,
                    "metadata": {},
                    "output_type": "execute_result"
                }
            ],
            "source": "df.shape"
        }
    ],
    "metadata": {
        "kernelspec": {
            "display_name": "Python 3.6",
            "language": "python",
            "name": "python3"
        },
        "language_info": {
            "codemirror_mode": {
                "name": "ipython",
                "version": 3
            },
            "file_extension": ".py",
            "mimetype": "text/x-python",
            "name": "python",
            "nbconvert_exporter": "python",
            "pygments_lexer": "ipython3",
            "version": "3.6.9"
        }
    },
    "nbformat": 4,
    "nbformat_minor": 1
}